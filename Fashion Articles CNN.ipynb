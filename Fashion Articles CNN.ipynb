{
 "cells": [
  {
   "cell_type": "markdown",
   "metadata": {},
   "source": [
    "# Fashion Articles Classification\n",
    "\n",
    "In the following notebook we will be analysing the dataset from the fashion-mnist dataset"
   ]
  },
  {
   "cell_type": "code",
   "execution_count": 13,
   "metadata": {},
   "outputs": [],
   "source": [
    "import pandas as pd\n",
    "import numpy as np\n",
    "from keras.datasets import fashion_mnist\n",
    "\n",
    "(X_train, Y_train), (X_test, Y_test) = fashion_mnist.load_data()"
   ]
  },
  {
   "cell_type": "code",
   "execution_count": 14,
   "metadata": {},
   "outputs": [
    {
     "data": {
      "text/plain": [
       "<matplotlib.image.AxesImage at 0x1339b3f90>"
      ]
     },
     "execution_count": 14,
     "metadata": {},
     "output_type": "execute_result"
    },
    {
     "data": {
      "image/png": "[encoded data removed]",
      "text/plain": [
       "<Figure size 432x288 with 1 Axes>"
      ]
     },
     "metadata": {
      "needs_background": "light"
     },
     "output_type": "display_data"
    }
   ],
   "source": [
    "import matplotlib.pyplot as plt\n",
    "plt.imshow(X_train[2])"
   ]
  },
  {
   "cell_type": "code",
   "execution_count": 15,
   "metadata": {},
   "outputs": [],
   "source": [
    "X_train = X_train / 255.0\n",
    "X_test = X_test / 255.0"
   ]
  },
  {
   "cell_type": "code",
   "execution_count": 16,
   "metadata": {},
   "outputs": [
    {
     "data": {
      "text/plain": [
       "<matplotlib.image.AxesImage at 0x133b8a050>"
      ]
     },
     "execution_count": 16,
     "metadata": {},
     "output_type": "execute_result"
    },
    {
     "data": {
      "image/png": "[encoded data removed]",
      "text/plain": [
       "<Figure size 432x288 with 1 Axes>"
      ]
     },
     "metadata": {
      "needs_background": "light"
     },
     "output_type": "display_data"
    }
   ],
   "source": [
    "plt.imshow(X_train[0], cmap = plt.cm.binary)"
   ]
  },
  {
   "cell_type": "code",
   "execution_count": 17,
   "metadata": {},
   "outputs": [
    {
     "name": "stdout",
     "output_type": "stream",
     "text": [
      "_________________________________________________________________\n",
      "Layer (type)                 Output Shape              Param #   \n",
      "=================================================================\n",
      "conv2d_7 (Conv2D)            (None, 1, 28, 32)         3616      \n",
      "_________________________________________________________________\n",
      "activation_7 (Activation)    (None, 1, 28, 32)         0         \n",
      "_________________________________________________________________\n",
      "max_pooling2d_7 (MaxPooling2 (None, 1, 14, 32)         0         \n",
      "_________________________________________________________________\n",
      "conv2d_8 (Conv2D)            (None, 1, 14, 64)         8256      \n",
      "_________________________________________________________________\n",
      "activation_8 (Activation)    (None, 1, 14, 64)         0         \n",
      "_________________________________________________________________\n",
      "max_pooling2d_8 (MaxPooling2 (None, 1, 7, 64)          0         \n",
      "_________________________________________________________________\n",
      "flatten_4 (Flatten)          (None, 448)               0         \n",
      "_________________________________________________________________\n",
      "dense_5 (Dense)              (None, 128)               57472     \n",
      "_________________________________________________________________\n",
      "dense_6 (Dense)              (None, 10)                1290      \n",
      "=================================================================\n",
      "Total params: 70,634\n",
      "Trainable params: 70,634\n",
      "Non-trainable params: 0\n",
      "_________________________________________________________________\n"
     ]
    }
   ],
   "source": [
    "from keras.models import Sequential\n",
    "from keras.utils import np_utils\n",
    "from keras.layers import Flatten\n",
    "from keras.layers import Dense, MaxPool2D, Conv2D, Activation\n",
    "from keras.initializers import Constant\n",
    "\n",
    "X_train = X_train.reshape(X_train.shape[0], 1, 28, 28)\n",
    "X_test = X_test.reshape(X_test.shape[0], 1, 28, 28)\n",
    "\n",
    "Y_train = np_utils.to_categorical(Y_train, 10)\n",
    "Y_test = np_utils.to_categorical(Y_test, 10)\n",
    "\n",
    "CNNModel = Sequential()\n",
    "CNNModel.add(\n",
    "    Conv2D(\n",
    "        32, \n",
    "        kernel_size = (2,2), \n",
    "        padding = 'same', \n",
    "        bias_initializer = Constant(0.02), \n",
    "        kernel_initializer = 'random_uniform', \n",
    "        input_shape=(1, 28, 28)\n",
    "    )\n",
    ")\n",
    "\n",
    "CNNModel.add(Activation('relu'))\n",
    "CNNModel.add(MaxPool2D(padding = 'same'))\n",
    "\n",
    "\n",
    "CNNModel.add(\n",
    "    Conv2D(\n",
    "        64, \n",
    "        kernel_size = (2,2), \n",
    "        padding = 'same', \n",
    "        bias_initializer = Constant(0.02), \n",
    "        kernel_initializer = 'random_uniform'\n",
    "    )\n",
    ")\n",
    "\n",
    "CNNModel.add(Activation('relu'))\n",
    "CNNModel.add(MaxPool2D(padding = 'same'))\n",
    "\n",
    "CNNModel.add(Flatten())\n",
    "\n",
    "CNNModel.add(Dense(128, activation = 'relu', kernel_initializer = 'random_uniform', bias_initializer = Constant(0.02)))\n",
    "\n",
    "CNNModel.add(Dense(10, activation = 'softmax'))\n",
    "\n",
    "\n",
    "CNNModel.summary()"
   ]
  },
  {
   "cell_type": "markdown",
   "metadata": {},
   "source": [
    "## Training"
   ]
  },
  {
   "cell_type": "code",
   "execution_count": 19,
   "metadata": {},
   "outputs": [
    {
     "name": "stdout",
     "output_type": "stream",
     "text": [
      "Epoch 1/15\n",
      "60000/60000 [==============================] - 5s 85us/step - loss: 0.1329 - acc: 0.9487\n",
      "Epoch 2/15\n",
      "60000/60000 [==============================] - 5s 77us/step - loss: 0.1257 - acc: 0.9533: 2s - loss: 0.1192 - acc \n",
      "Epoch 3/15\n",
      "60000/60000 [==============================] - 4s 73us/step - loss: 0.1189 - acc: 0.9553: 0s - loss: 0.1174 -\n",
      "Epoch 4/15\n",
      "60000/60000 [==============================] - 5s 83us/step - loss: 0.1129 - acc: 0.9572: 1s - loss:\n",
      "Epoch 5/15\n",
      "60000/60000 [==============================] - 5s 80us/step - loss: 0.1064 - acc: 0.9601\n",
      "Epoch 6/15\n",
      "60000/60000 [==============================] - 5s 83us/step - loss: 0.1021 - acc: 0.9612\n",
      "Epoch 7/15\n",
      "60000/60000 [==============================] - 5s 75us/step - loss: 0.0981 - acc: 0.9625\n",
      "Epoch 8/15\n",
      "60000/60000 [==============================] - 5s 77us/step - loss: 0.0920 - acc: 0.9641\n",
      "Epoch 9/15\n",
      "60000/60000 [==============================] - 5s 77us/step - loss: 0.0892 - acc: 0.9662\n",
      "Epoch 10/15\n",
      "60000/60000 [==============================] - 5s 75us/step - loss: 0.0827 - acc: 0.9682\n",
      "Epoch 11/15\n",
      "60000/60000 [==============================] - 5s 77us/step - loss: 0.0803 - acc: 0.9695\n",
      "Epoch 12/15\n",
      "60000/60000 [==============================] - 4s 74us/step - loss: 0.0765 - acc: 0.9712\n",
      "Epoch 13/15\n",
      "60000/60000 [==============================] - 5s 77us/step - loss: 0.0729 - acc: 0.9718\n",
      "Epoch 14/15\n",
      "60000/60000 [==============================] - 5s 86us/step - loss: 0.0719 - acc: 0.9729: 0s - loss: 0.\n",
      "Epoch 15/15\n",
      "60000/60000 [==============================] - 5s 82us/step - loss: 0.0682 - acc: 0.9735\n",
      "10000/10000 [==============================] - 0s 32us/step\n",
      "('Total loss ', 0.47354291991367936)\n",
      "('Total accuracy ', 0.8995)\n"
     ]
    }
   ],
   "source": [
    "CNNModel.compile(optimizer = 'adam', loss = 'categorical_crossentropy', metrics = ['accuracy'])\n",
    "\n",
    "CNNModel.fit(X_train, Y_train, epochs = 15, batch_size = 32, verbose = 1)\n",
    "\n",
    "scores = CNNModel.evaluate(X_test, Y_test, verbose = 1)\n",
    "\n",
    "print('Total loss ', scores[0])\n",
    "print('Total accuracy ', scores[1])"
   ]
  }
 ],
 "metadata": {
  "kernelspec": {
   "display_name": "Python 2",
   "language": "python",
   "name": "python2"
  },
  "language_info": {
   "codemirror_mode": {
    "name": "ipython",
    "version": 2
   },
   "file_extension": ".py",
   "mimetype": "text/x-python",
   "name": "python",
   "nbconvert_exporter": "python",
   "pygments_lexer": "ipython2",
   "version": "2.7.15"
  }
 },
 "nbformat": 4,
 "nbformat_minor": 2
}
